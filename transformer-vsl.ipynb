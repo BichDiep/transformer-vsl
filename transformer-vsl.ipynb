{
 "cells": [
  {
   "cell_type": "markdown",
   "metadata": {
    "id": "e7f697fec28a"
   },
   "source": [
     ]
  },
  {
   "cell_type": "code",
   "execution_count": 1,
   "metadata": {
    "cellView": "form",
    "execution": {
     "iopub.execute_input": "2022-09-20T11:09:38.384539Z",
     "iopub.status.busy": "2022-09-20T11:09:38.383884Z",
     "iopub.status.idle": "2022-09-20T11:09:38.387741Z",
     "shell.execute_reply": "2022-09-20T11:09:38.387193Z"
    },
    "id": "GpAXuTgZ888M"
   },
   "outputs": [],
   "source": [
      ]
  },
  {
   "cell_type": "markdown",
   "metadata": {
    "id": "a934948f7030"
   },
   "source": [
    "# Neural machine translation with a Transformer and Keras"
   ]
  },
  {
   "cell_type": "markdown",
   "metadata": {
    "id": "a241496dc3d9"
   },
   "source": [
    "<table class=\"tfo-notebook-buttons\" align=\"left\">\n",
    "  <td>\n",
    "    <a target=\"_blank\" href=\"https://www.tensorflow.org/text/tutorials/transformer\">\n",
    "    <img src=\"https://www.tensorflow.org/images/tf_logo_32px.png\" />\n",
    "    View on TensorFlow.org</a>\n",
    "  </td>\n",
    "  <td>\n",
    "    <a target=\"_blank\" href=\"https://colab.research.google.com/github/tensorflow/text/blob/master/docs/tutorials/transformer.ipynb\">\n",
    "    <img src=\"https://www.tensorflow.org/images/colab_logo_32px.png\" />\n",
    "    Run in Google Colab</a>\n",
    "  </td>\n",
    "  <td>\n",
    "    <a target=\"_blank\" href=\"https://github.com/tensorflow/text/blob/master/docs/tutorials/transformer.ipynb\">\n",
    "    <img src=\"https://www.tensorflow.org/images/GitHub-Mark-32px.png\" />\n",
    "    View source on GitHub</a>\n",
    "  </td>\n",
    "  <td>\n",
    "    <a href=\"https://storage.googleapis.com/tensorflow_docs/text/docs/tutorials/transformer.ipynb\"><img src=\"https://www.tensorflow.org/images/download_logo_32px.png\" />Download notebook</a>\n",
    "  </td>\n",
    "</table>"
   ]
  },
  {
   "cell_type": "markdown",
   "metadata": {
    "id": "TCg3ElKBUSBb"
   },
   "source": [
    ]
  },
  {
   "cell_type": "markdown",
   "metadata": {
    "id": "Fo1P7AN4lzdi"
   },
   "source": [
    "<img src=\"https://www.tensorflow.org/images/tutorials/transformer/apply_the_transformer_to_machine_translation.gif\" alt=\"Applying the Transformer to machine translation\">\n",
    "\n",
    "Figure 1: Applying the Transformer to machine translation. Source: [Google AI Blog](https://ai.googleblog.com/2017/08/transformer-novel-neural-network.html).\n",
    "\n",
    "In this tutorial you will:\n",
    "\n",
    "- Perpare the data\n",
    "  - Load the data with [TensorFlow Datasets](https://tensorflow.org/datasets).\n",
    "  - Define tokenization functions.\n",
    "  - Build `tf.data` pipelines.\n",
    "- Implement necessary subcomponents:\n",
    "  - Positional encoding and [embedding](https://developers.google.com/machine-learning/glossary#embeddings){:.external}.\n",
    "  - Point-wise feed-forward network.\n",
    "  - The `EncoderLayer` and `DecoderLayer`\n",
    "- Assemble these components to define the encoder and decoder.\n",
    "- Combine the encoder and decoder to build the Transformer.\n",
    "- Train the Transformer.\n",
    "- Generate translations.\n",
    "- Export your model.\n",
    "\n",
    "To get the most out of this tutorial, it helps if you know about [the basics of text generation](./text_generation.ipynb) and [attention mechanisms](./nmt_with_attention.ipynb)."
   ]
  },
  {
   "cell_type": "markdown",
   "metadata": {
    "id": "huJ97Eh-Ue4V"
   },
   "source": [
    "After training the model in this notebook, you will be able to input a Portuguese sentence and return the English translation.\n",
    "\n",
    "<img src=\"https://www.tensorflow.org/images/tutorials/transformer/attention_map_portuguese.png\" alt=\"Attention heatmap\">\n",
    "\n",
    "Figure 2: Visualized attention weights that you can generate at the end of this tutorial."
   ]
  },
  {
   "cell_type": "markdown",
   "metadata": {
    "id": "aZL6uTTE5137"
   },
   "source": [
      ]
  },
  {
   "cell_type": "markdown",
   "metadata": {
    "id": "swymtxpl7W7w"
   },
   "source": [
    "## Setup"
   ]
  },
  {
   "cell_type": "markdown",
   "metadata": {
    "id": "OfV1batAwq9j"
   },
   "source": [
  ]
  },
  {
   "cell_type": "code",
   "execution_count": 2,
   "metadata": {
    "execution": {
     "iopub.execute_input": "2022-09-20T11:09:38.392835Z",
     "iopub.status.busy": "2022-09-20T11:09:38.392340Z",
     "iopub.status.idle": "2022-09-20T11:10:02.121207Z",
     "shell.execute_reply": "2022-09-20T11:10:02.120145Z"
    },
    "id": "XFG0NDRu5mYQ"
   },
   "outputs": [
    {
     "name": "stdout",
     "output_type": "stream",
     "text": [
      "\u001b[33mWARNING: Skipping tensorflow-text as it is not installed.\u001b[0m\u001b[33m\r\n",
      "\u001b[0m"
     ]
    }
   ],
   "source": [
    "# Install the nightly version of TensorFlow to use the improved\n",
    "# masking support for `tf.keras.layers.MultiHeadAttention`.\n",
    "!pip uninstall -y -q tensorflow keras tensorflow-estimator tensorflow-text\n",
    "!pip install -q tensorflow_datasets\n",
    "!pip install -q -U tensorflow-text tensorflow"
   ]
  },
  {
   "cell_type": "markdown",
   "metadata": {
    "id": "0GYpLBSjxJmG"
   },
   "source": [
    "Import the necessary modules:"
   ]
  },
  {
   "cell_type": "code",
   "execution_count": 3,
   "metadata": {
    "execution": {
     "iopub.execute_input": "2022-09-20T11:10:02.125659Z",
     "iopub.status.busy": "2022-09-20T11:10:02.125368Z",
     "iopub.status.idle": "2022-09-20T11:10:05.067533Z",
     "shell.execute_reply": "2022-09-20T11:10:05.066609Z"
    },
    "id": "JjJJyJTZYebt"
   },
   "outputs": [
    {
     "name": "stderr",
     "output_type": "stream",
     "text": [
      "2022-09-20 11:10:03.008968: E tensorflow/stream_executor/cuda/cuda_blas.cc:2981] Unable to register cuBLAS factory: Attempting to register factory for plugin cuBLAS when one has already been registered\n"
     ]
    },
    {
     "name": "stderr",
     "output_type": "stream",
     "text": [
      "2022-09-20 11:10:03.656627: W tensorflow/stream_executor/platform/default/dso_loader.cc:64] Could not load dynamic library 'libnvinfer.so.7'; dlerror: libnvrtc.so.11.1: cannot open shared object file: No such file or directory\n",
      "2022-09-20 11:10:03.656911: W tensorflow/stream_executor/platform/default/dso_loader.cc:64] Could not load dynamic library 'libnvinfer_plugin.so.7'; dlerror: libnvrtc.so.11.1: cannot open shared object file: No such file or directory\n",
      "2022-09-20 11:10:03.656924: W tensorflow/compiler/tf2tensorrt/utils/py_utils.cc:38] TF-TRT Warning: Cannot dlopen some TensorRT libraries. If you would like to use Nvidia GPU with TensorRT, please make sure the missing libraries mentioned above are installed properly.\n"
     ]
    }
   ],
   "source": [
    "import logging\n",
    "import time\n",
    "\n",
    "import numpy as np\n",
    "import matplotlib.pyplot as plt\n",
    "\n",
    "import tensorflow_datasets as tfds\n",
    "import tensorflow as tf\n",
    "\n",
    "import tensorflow_text"
   ]
  },
  {
   "cell_type": "markdown",
   "metadata": {
    "id": "Xf_WUi2HLhzf"
   },
   "source": [
    "## Data handling"
   ]
  },
  {
   "cell_type": "markdown",
   "metadata": {
    "id": "-cCvXbPkccV1"
   },
   "source": [
    "### Download the dataset"
   ]
  },
  {
   "cell_type": "markdown",
   "metadata": {
    "id": "LTEVgBxklzdq"
   },
   "source": [
    "Use TensorFlow Datasets to load the [Portuguese-English translation dataset](https://www.tensorflow.org/datasets/catalog/ted_hrlr_translate#ted_hrlr_translatept_to_en){:.external} from the TED Talks Open Translation Project. This dataset contains approximately 52,000 training, 1,200 validation and 1,800 test examples."
   ]
  },
  {
   "cell_type": "code",
   "execution_count": 4,
   "metadata": {
    "execution": {
     "iopub.execute_input": "2022-09-20T11:10:05.072876Z",
     "iopub.status.busy": "2022-09-20T11:10:05.072316Z",
     "iopub.status.idle": "2022-09-20T11:10:09.205624Z",
     "shell.execute_reply": "2022-09-20T11:10:09.204954Z"
    },
    "id": "8q9t4FmN96eN"
   },
   "outputs": [],
   "source": [
    "examples, metadata = tfds.load('ted_hrlr_translate/pt_to_en',\n",
    "                               with_info=True,\n",
    "                               as_supervised=True)\n",
    "\n",
    "train_examples, val_examples = examples['train'], examples['validation']"
   ]
  },
  {
   "cell_type": "markdown",
   "metadata": {
    "id": "ZA4cw7F_DmSt"
   },
   "source": [
    "The `tf.data.Dataset` object returned by TensorFlow Datasets yields pairs of text examples:"
   ]
  },
  {
   "cell_type": "code",
   "execution_count": 5,
   "metadata": {
    "execution": {
     "iopub.execute_input": "2022-09-20T11:10:09.209748Z",
     "iopub.status.busy": "2022-09-20T11:10:09.209486Z",
     "iopub.status.idle": "2022-09-20T11:10:09.788843Z",
     "shell.execute_reply": "2022-09-20T11:10:09.787973Z"
    },
    "id": "CZFAMZJyDrFn"
   },
   "outputs": [
    {
     "name": "stdout",
     "output_type": "stream",
     "text": [
      "> Examples in Portuguese:\n",
      "e quando melhoramos a procura , tiramos a única vantagem da impressão , que é a serendipidade .\n",
      "mas e se estes fatores fossem ativos ?\n",
      "mas eles não tinham a curiosidade de me testar .\n",
      "\n",
      "> Examples in English:\n",
      "and when you improve searchability , you actually take away the one advantage of print , which is serendipity .\n",
      "but what if it were active ?\n",
      "but they did n't test for curiosity .\n"
     ]
    }
   ],
   "source": [
    "for pt_examples, en_examples in train_examples.batch(3).take(1):\n",
    "  print('> Examples in Portuguese:')\n",
    "  for pt in pt_examples.numpy():\n",
    "    print(pt.decode('utf-8'))\n",
    "  print()\n",
    "\n",
    "  print('> Examples in English:')\n",
    "  for en in en_examples.numpy():\n",
    "    print(en.decode('utf-8'))"
   ]
  },
  {
   "cell_type": "markdown",
   "metadata": {
    "id": "eJxTd6aVnZyh"
   },
   "source": [
    "### Set up the tokenizer"
   ]
  },
  {
   "cell_type": "markdown",
   "metadata": {
    "id": "Mopr6oKUlzds"
   },
   "source": [
    "Now that you have loaded the dataset, you need to tokenize the text, so that each element is represented as a [token](https://developers.google.com/machine-learning/glossary#token){:.external} or token ID (a numeric representation).\n",
    "\n",
    "Tokenization is the process of breaking up a sequence, such as a text, into tokens, for each element in that sequence. Commonly, these tokens are words, characters, numbers, subwords, and/or punctuation. The beginning of sentences and end of sentences are typically also marked by tokens IDs, such as `'[START]'` and `'[END]'`.\n",
    "\n",
    "Tokenization can be done in various ways. For example, for a text sequence of `'how are you'`, you can apply:\n",
    "\n",
    "- Word-level tokenization, such as `'how'`, `'are'`, `'you'`.\n",
    "- Character-level tokenization, such as `'h'`, `'o'`, `'w'`, `'a'`, and so on. This would result in a much longer sequence length compared with the previous method.\n",
    "- Subword tokenization, which can take care of common/recurring word parts, such as `'ing'` and `'tion'`, as well as common words like `'are'` and `'you'`.\n",
    "\n",
    "To learn more about tokenization, visit [this guide](https://www.tensorflow.org/text/guide/tokenizers)."
   ]
  },
  {
   "cell_type": "markdown",
   "metadata": {
    "id": "GJr_8Jz9FKgu"
   },
   "source": [
    "This tutorial uses a popular [subword tokenizer](https://www.tensorflow.org/text/guide/subwords_tokenizer) implementation, which builds subword tokenizers (`text.BertTokenizer`) optimized for the dataset and exports them in a TensorFlow `saved_model` format.\n",
    "\n",
    "Download, extract, and import the `saved_model`:"
   ]
  },
  {
   "cell_type": "code",
   "execution_count": 6,
   "metadata": {
    "execution": {
     "iopub.execute_input": "2022-09-20T11:10:09.793588Z",
     "iopub.status.busy": "2022-09-20T11:10:09.792957Z",
     "iopub.status.idle": "2022-09-20T11:10:09.890630Z",
     "shell.execute_reply": "2022-09-20T11:10:09.889981Z"
    },
    "id": "QToMl0NanZPr"
   },
   "outputs": [
    {
     "name": "stdout",
     "output_type": "stream",
     "text": [
      "Downloading data from https://storage.googleapis.com/download.tensorflow.org/models/ted_hrlr_translate_pt_en_converter.zip\n"
     ]
    },
    {
     "name": "stdout",
     "output_type": "stream",
     "text": [
      "\r",
      "  8192/184801 [>.............................] - ETA: 0s"
     ]
    },
    {
     "name": "stdout",
     "output_type": "stream",
     "text": [
      "\b\b\b\b\b\b\b\b\b\b\b\b\b\b\b\b\b\b\b\b\b\b\b\b\b\b\b\b\b\b\b\b\b\b\b\b\b\b\b\b\b\b\b\b\b\b\b\b\b\b\b\b\b\b\b\b\r",
      "184801/184801 [==============================] - 0s 0us/step\n"
     ]
    },
    {
     "data": {
      "text/plain": [
       "'./ted_hrlr_translate_pt_en_converter.zip'"
      ]
     },
     "execution_count": 6,
     "metadata": {},
     "output_type": "execute_result"
    }
   ],
   "source": [
    "model_name = 'ted_hrlr_translate_pt_en_converter'\n",
    "tf.keras.utils.get_file(\n",
    "    f'{model_name}.zip',\n",
    "    f'https://storage.googleapis.com/download.tensorflow.org/models/{model_name}.zip',\n",
    "    cache_dir='.', cache_subdir='', extract=True\n",
    ")"
   ]
  },
  {
   "cell_type": "code",
   "execution_count": 7,
   "metadata": {
    "execution": {
     "iopub.execute_input": "2022-09-20T11:10:09.894245Z",
     "iopub.status.busy": "2022-09-20T11:10:09.893743Z",
     "iopub.status.idle": "2022-09-20T11:10:10.742461Z",
     "shell.execute_reply": "2022-09-20T11:10:10.741744Z"
    },
    "id": "h5dbGnPXnuI1"
   },
   "outputs": [],
   "source": [
    "tokenizers = tf.saved_model.load(model_name)"
   ]
  },
  {
   "cell_type": "markdown",
   "metadata": {
    "id": "CexgkIS1lzdt"
   },
   "source": [
    "The `tf.saved_model` contains two text tokenizers, one for English and one for Portuguese. Both have the same methods:"
   ]
  },
  {
   "cell_type": "code",
   "execution_count": 8,
   "metadata": {
    "execution": {
     "iopub.execute_input": "2022-09-20T11:10:10.746645Z",
     "iopub.status.busy": "2022-09-20T11:10:10.746391Z",
     "iopub.status.idle": "2022-09-20T11:10:10.751277Z",
     "shell.execute_reply": "2022-09-20T11:10:10.750699Z"
    },
    "id": "s-PCJijfcZ9_"
   },
   "outputs": [
    {
     "data": {
      "text/plain": [
       "['detokenize',\n",
       " 'get_reserved_tokens',\n",
       " 'get_vocab_path',\n",
       " 'get_vocab_size',\n",
       " 'lookup',\n",
       " 'tokenize',\n",
       " 'tokenizer',\n",
       " 'vocab']"
      ]
     },
     "execution_count": 8,
     "metadata": {},
     "output_type": "execute_result"
    }
   ],
   "source": [
    "[item for item in dir(tokenizers.en) if not item.startswith('_')]"
   ]
  },
  {
   "cell_type": "markdown",
   "metadata": {
    "id": "fUBljDDEFWUC"
   },
   "source": [
    "The `tokenize` method converts a batch of strings to a padded-batch of token IDs. This method splits punctuation, lowercases and unicode-normalizes the input before tokenizing. That standardization is not visible here because the input data is already standardized."
   ]
  },
  {
   "cell_type": "code",
   "execution_count": 9,
   "metadata": {
    "execution": {
     "iopub.execute_input": "2022-09-20T11:10:10.754401Z",
     "iopub.status.busy": "2022-09-20T11:10:10.754176Z",
     "iopub.status.idle": "2022-09-20T11:10:10.757751Z",
     "shell.execute_reply": "2022-09-20T11:10:10.757150Z"
    },
    "id": "z_gPC5iwFXfU"
   },
   "outputs": [
    {
     "name": "stdout",
     "output_type": "stream",
     "text": [
      "> This is a batch of strings:\n",
      "and when you improve searchability , you actually take away the one advantage of print , which is serendipity .\n",
      "but what if it were active ?\n",
      "but they did n't test for curiosity .\n"
     ]
    }
   ],
   "source": [
    "print('> This is a batch of strings:')\n",
    "for en in en_examples.numpy():\n",
    "  print(en.decode('utf-8'))"
   ]
  },
  {
   "cell_type": "code",
   "execution_count": 10,
   "metadata": {
    "execution": {
     "iopub.execute_input": "2022-09-20T11:10:10.760676Z",
     "iopub.status.busy": "2022-09-20T11:10:10.760156Z",
     "iopub.status.idle": "2022-09-20T11:10:11.027223Z",
     "shell.execute_reply": "2022-09-20T11:10:11.026489Z"
    },
    "id": "uSkM7z8JFaVO"
   },
   "outputs": [
    {
     "name": "stdout",
     "output_type": "stream",
     "text": [
      "> This is a padded-batch of token IDs:\n",
      "[2, 72, 117, 79, 1259, 1491, 2362, 13, 79, 150, 184, 311, 71, 103, 2308, 74, 2679, 13, 148, 80, 55, 4840, 1434, 2423, 540, 15, 3]\n",
      "[2, 87, 90, 107, 76, 129, 1852, 30, 3]\n",
      "[2, 87, 83, 149, 50, 9, 56, 664, 85, 2512, 15, 3]\n"
     ]
    }
   ],
   "source": [
    "encoded = tokenizers.en.tokenize(en_examples)\n",
    "\n",
    "print('> This is a padded-batch of token IDs:')\n",
    "for row in encoded.to_list():\n",
    "  print(row)"
   ]
  },
  {
   "cell_type": "markdown",
   "metadata": {
    "id": "nBkv7XeBFa8_"
   },
   "source": [
    "The `detokenize` method attempts to convert these token IDs back to human-readable text: "
   ]
  },
  {
   "cell_type": "code",
   "execution_count": 11,
   "metadata": {
    "execution": {
     "iopub.execute_input": "2022-09-20T11:10:11.031191Z",
     "iopub.status.busy": "2022-09-20T11:10:11.030699Z",
     "iopub.status.idle": "2022-09-20T11:10:11.163256Z",
     "shell.execute_reply": "2022-09-20T11:10:11.162612Z"
    },
    "id": "-CFS5aAxFdpP"
   },
   "outputs": [
    {
     "name": "stdout",
     "output_type": "stream",
     "text": [
      "> This is human-readable text:\n",
      "and when you improve searchability , you actually take away the one advantage of print , which is serendipity .\n",
      "but what if it were active ?\n",
      "but they did n ' t test for curiosity .\n"
     ]
    }
   ],
   "source": [
    "round_trip = tokenizers.en.detokenize(encoded)\n",
    "\n",
    "print('> This is human-readable text:')\n",
    "for line in round_trip.numpy():\n",
    "  print(line.decode('utf-8'))"
   ]
  },
  {
   "cell_type": "markdown",
   "metadata": {
    "id": "G-2gMSBBU-AE"
   },
   "source": [
    "The lower level `lookup` method converts from token-IDs to token text:"
   ]
  },
  {
   "cell_type": "code",
   "execution_count": 12,
   "metadata": {
    "execution": {
     "iopub.execute_input": "2022-09-20T11:10:11.167497Z",
     "iopub.status.busy": "2022-09-20T11:10:11.166810Z",
     "iopub.status.idle": "2022-09-20T11:10:11.189331Z",
     "shell.execute_reply": "2022-09-20T11:10:11.188783Z"
    },
    "id": "XaCeOnswVAhI"
   },
   "outputs": [
    {
     "name": "stdout",
     "output_type": "stream",
     "text": [
      "> This is the text split into tokens:\n"
     ]
    },
    {
     "data": {
      "text/plain": [
       "<tf.RaggedTensor [[b'[START]', b'and', b'when', b'you', b'improve', b'search', b'##ability',\n",
       "  b',', b'you', b'actually', b'take', b'away', b'the', b'one', b'advantage',\n",
       "  b'of', b'print', b',', b'which', b'is', b's', b'##ere', b'##nd', b'##ip',\n",
       "  b'##ity', b'.', b'[END]']                                                 ,\n",
       " [b'[START]', b'but', b'what', b'if', b'it', b'were', b'active', b'?',\n",
       "  b'[END]']                                                           ,\n",
       " [b'[START]', b'but', b'they', b'did', b'n', b\"'\", b't', b'test', b'for',\n",
       "  b'curiosity', b'.', b'[END]']                                          ]>"
      ]
     },
     "execution_count": 12,
     "metadata": {},
     "output_type": "execute_result"
    }
   ],
   "source": [
    "print('> This is the text split into tokens:')\n",
    "tokens = tokenizers.en.lookup(encoded)\n",
    "tokens"
   ]
  },
  {
   "cell_type": "markdown",
   "metadata": {
    "id": "pR3vZJf1Yhg_"
   },
   "source": [
    "The output demonstrates the \"subword\" aspect of the subword tokenization.\n",
    "\n",
    "For example, the word `'searchability'` is decomposed into `'search'` and `'##ability'`, and the word `'serendipity'` into `'s'`, `'##ere'`, `'##nd'`, `'##ip'` and `'##ity'`.\n",
    "\n",
    "Note that the tokenized text includes `'[START]'` and `'[END]'` tokens."
   ]
  },
  {
   "cell_type": "markdown",
   "metadata": {
    "id": "g_4vdnhSaATh"
   },
   "source": [
    "The distribution of tokens per example in the dataset is as follows:"
   ]
  },
  {
   "cell_type": "code",
   "execution_count": 13,
   "metadata": {
    "execution": {
     "iopub.execute_input": "2022-09-20T11:10:11.193590Z",
     "iopub.status.busy": "2022-09-20T11:10:11.192989Z",
     "iopub.status.idle": "2022-09-20T11:10:19.212546Z",
     "shell.execute_reply": "2022-09-20T11:10:19.211792Z"
    },
    "id": "KRbke-iaaHFI"
   },
   "outputs": [
    {
     "name": "stdout",
     "output_type": "stream",
     "text": [
      "."
     ]
    },
    {
     "name": "stdout",
     "output_type": "stream",
     "text": [
      "."
     ]
    },
    {
     "name": "stdout",
     "output_type": "stream",
     "text": [
      "."
     ]
    },
    {
     "name": "stdout",
     "output_type": "stream",
     "text": [
      "."
     ]
    },
    {
     "name": "stdout",
     "output_type": "stream",
     "text": [
      "."
     ]
    },
    {
     "name": "stdout",
     "output_type": "stream",
     "text": [
      "."
     ]
    },
    {
     "name": "stdout",
     "output_type": "stream",
     "text": [
      "."
     ]
    },
    {
     "name": "stdout",
     "output_type": "stream",
     "text": [
      "."
     ]
    },
    {
     "name": "stdout",
     "output_type": "stream",
     "text": [
      "."
     ]
    },
    {
     "name": "stdout",
     "output_type": "stream",
     "text": [
      "."
     ]
    },
    {
     "name": "stdout",
     "output_type": "stream",
     "text": [
      "."
     ]
    },
    {
     "name": "stdout",
     "output_type": "stream",
     "text": [
      "."
     ]
    },
    {
     "name": "stdout",
     "output_type": "stream",
     "text": [
      "."
     ]
    },
    {
     "name": "stdout",
     "output_type": "stream",
     "text": [
      "."
     ]
    },
    {
     "name": "stdout",
     "output_type": "stream",
     "text": [
      "."
     ]
    },
    {
     "name": "stdout",
     "output_type": "stream",
     "text": [
      "."
     ]
    },
    {
     "name": "stdout",
     "output_type": "stream",
     "text": [
      "."
     ]
    },
    {
     "name": "stdout",
     "output_type": "stream",
     "text": [
      "."
     ]
    },
    {
     "name": "stdout",
     "output_type": "stream",
     "text": [
      "."
     ]
    },
    {
     "name": "stdout",
     "output_type": "stream",
     "text": [
      "."
     ]
    },
    {
     "name": "stdout",
     "output_type": "stream",
     "text": [
      "."
     ]
    },
    {
     "name": "stdout",
     "output_type": "stream",
     "text": [
      "."
     ]
    },
    {
     "name": "stdout",
     "output_type": "stream",
     "text": [
      "."
     ]
    },
    {
     "name": "stdout",
     "output_type": "stream",
     "text": [
      "."
     ]
    },
    {
     "name": "stdout",
     "output_type": "stream",
     "text": [
      "."
     ]
    },
    {
     "name": "stdout",
     "output_type": "stream",
     "text": [
      "."
     ]
    },
    {
     "name": "stdout",
     "output_type": "stream",
     "text": [
      "."
     ]
    },
    {
     "name": "stdout",
     "output_type": "stream",
     "text": [
      "."
     ]
    },
    {
     "name": "stdout",
     "output_type": "stream",
     "text": [
      "."
     ]
    },
    {
     "name": "stdout",
     "output_type": "stream",
     "text": [
      "."
     ]
    },
    {
     "name": "stdout",
     "output_type": "stream",
     "text": [
      "."
     ]
    },
    {
     "name": "stdout",
     "output_type": "stream",
     "text": [
      "."
     ]
    },
    {
     "name": "stdout",
     "output_type": "stream",
     "text": [
      "."
     ]
    },
    {
     "name": "stdout",
     "output_type": "stream",
     "text": [
      "."
     ]
    },
    {
     "name": "stdout",
     "output_type": "stream",
     "text": [
      "."
     ]
    },
    {
     "name": "stdout",
     "output_type": "stream",
     "text": [
      "."
     ]
    },
    {
     "name": "stdout",
     "output_type": "stream",
     "text": [
      "."
     ]
    },
    {
     "name": "stdout",
     "output_type": "stream",
     "text": [
      "."
     ]
    },
    {
     "name": "stdout",
     "output_type": "stream",
     "text": [
      "."
     ]
    },
    {
     "name": "stdout",
     "output_type": "stream",
     "text": [
      "."
     ]
    },
    {
     "name": "stdout",
     "output_type": "stream",
     "text": [
      "."
     ]
    },
    {
     "name": "stdout",
     "output_type": "stream",
     "text": [
      "."
     ]
    },
    {
     "name": "stdout",
     "output_type": "stream",
     "text": [
      "."
     ]
    },
    {
     "name": "stdout",
     "output_type": "stream",
     "text": [
      "."
     ]
    },
    {
     "name": "stdout",
     "output_type": "stream",
     "text": [
      "."
     ]
    },
    {
     "name": "stdout",
     "output_type": "stream",
     "text": [
      "."
     ]
    },
    {
     "name": "stdout",
     "output_type": "stream",
     "text": [
      "."
     ]
    },
    {
     "name": "stdout",
     "output_type": "stream",
     "text": [
      "."
     ]
    },
    {
     "name": "stdout",
     "output_type": "stream",
     "text": [
      "."
     ]
    },
    {
     "name": "stdout",
     "output_type": "stream",
     "text": [
      "."
     ]
    },
    {
     "name": "stdout",
     "output_type": "stream",
     "text": [
      "."
     ]
    }
   ],
   "source": [
    "lengths = []\n",
    "\n",
    "for pt_examples, en_examples in train_examples.batch(1024):\n",
    "  pt_tokens = tokenizers.en.tokenize(pt_examples)\n",
    "  lengths.append(pt_tokens.row_lengths())\n",
    "  \n",
    "  en_tokens = tokenizers.en.tokenize(en_examples)\n",
    "  lengths.append(en_tokens.row_lengths())\n",
    "  print('.', end='', flush=True)"
   ]
  },
  {
   "cell_type": "code",
   "execution_count": 14,
   "metadata": {
    "execution": {
     "iopub.execute_input": "2022-09-20T11:10:19.216487Z",
     "iopub.status.busy": "2022-09-20T11:10:19.215953Z",
     "iopub.status.idle": "2022-09-20T11:10:19.551229Z",
     "shell.execute_reply": "2022-09-20T11:10:19.550532Z"
    },
    "id": "9ucA1q3GaK_n"
   },
   "outputs": [
    {
     "data": {
      "image/png": "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\n",
      "text/plain": [
       "<Figure size 640x480 with 1 Axes>"
      ]
     },
     "metadata": {},
     "output_type": "display_data"
    }
   ],
   "source": [
    "all_lengths = np.concatenate(lengths)\n",
    "\n",
    "plt.hist(all_lengths, np.linspace(0, 500, 101))\n",
    "plt.ylim(plt.ylim())\n",
    "max_length = max(all_lengths)\n",
    "plt.plot([max_length, max_length], plt.ylim())\n",
    "plt.title(f'Maximum tokens per example: {max_length}');"
   ]
  },
  {
   "cell_type": "markdown",
   "metadata": {
    "id": "-Yb35sTJcZq9"
   },
   "source": [
    "## Set up a data pipeline with `tf.data`"
   ]
  },
  {
   "cell_type": "markdown",
   "metadata": {
    "id": "JZHsns5obJhN"
   },
   "source": [
    "The following function takes batches of text as input, and converts them to a format suitable for training. \n",
    "\n",
    "1. It tokenizes them into ragged batches.\n",
    "2. It trims each to be no longer than `MAX_TOKENS`.\n",
    "3. It splits the output (English) tokens into inputs and labels. THese shifted by one step so that the `label` at each location is the id of the next token.\n",
    "4. It converts the `RaggedTensor`s to padded dense `Tensor`s.\n",
    "5. It returns an `(inputs, labels)` pair.\n"
   ]
  },
  {
   "cell_type": "code",
   "execution_count": 15,
   "metadata": {
    "execution": {
     "iopub.execute_input": "2022-09-20T11:10:19.555683Z",
     "iopub.status.busy": "2022-09-20T11:10:19.555059Z",
     "iopub.status.idle": "2022-09-20T11:10:19.559568Z",
     "shell.execute_reply": "2022-09-20T11:10:19.559008Z"
    },
    "id": "6shgzEck3FiV"
   },
   "outputs": [],
   "source": [
    "MAX_TOKENS=128\n",
    "def prepare_batch(pt, en):\n",
    "    pt = tokenizers.pt.tokenize(pt)      # Output is ragged.\n",
    "    pt = pt[:, :MAX_TOKENS]    # Trim to MAX_TOKENS.\n",
    "    pt = pt.to_tensor()  # Convert to 0-padded dense Tensor\n",
    "\n",
    "    en = tokenizers.en.tokenize(en)\n",
    "    en = en[:, :(MAX_TOKENS+1)]\n",
    "    en_inputs = en[:, :-1].to_tensor()  # Drop the [END] tokens\n",
    "    en_labels = en[:, 1:].to_tensor()   # Drop the [START] tokens\n",
    "\n",
    "    return (pt, en_inputs), en_labels"
   ]
  },
  {
   "cell_type": "markdown",
   "metadata": {
    "id": "dAroQ6xelzdx"
   },
   "source": [
    "The function below converts a dataset of text examples into data of batches for training. \n",
    "\n",
    "1. It tokenizes the text, and filters out the sequences that are too long.\n",
    "   (The `batch`/`unbatch` is included because the tokenizer is much more efficient on large batches).\n",
    "2. The `cache` method ensures that that work is only executed once.\n",
    "3. Then `shuffle` and, `dense_to_ragged_batch` randomize the order and assemble batches of examples. \n",
    "4. Finally `prefetch` runs the dataset in parallel with the model to ensure that data is available when needed. See [Better performance with the `tf.data`](https://www.tensorflow.org/guide/data_performance.ipynb) for details."
   ]
  },
  {
   "cell_type": "code",
   "execution_count": 16,
   "metadata": {
    "execution": {
     "iopub.execute_input": "2022-09-20T11:10:19.562704Z",
     "iopub.status.busy": "2022-09-20T11:10:19.562226Z",
     "iopub.status.idle": "2022-09-20T11:10:19.565083Z",
     "shell.execute_reply": "2022-09-20T11:10:19.564540Z"
    },
    "id": "bcRp7VcQ5m6g"
   },
   "outputs": [],
   "source": [
    "BUFFER_SIZE = 20000\n",
    "BATCH_SIZE = 64"
   ]
  },
  {
   "cell_type": "code",
   "execution_count": 17,
   "metadata": {
    "execution": {
     "iopub.execute_input": "2022-09-20T11:10:19.567934Z",
     "iopub.status.busy": "2022-09-20T11:10:19.567508Z",
     "iopub.status.idle": "2022-09-20T11:10:19.952794Z",
     "shell.execute_reply": "2022-09-20T11:10:19.952108Z"
    },
    "id": "BUN_jLBTwNxk"
   },
   "outputs": [],
   "source": [
    "def make_batches(ds):\n",
    "  return (\n",
    "      ds\n",
    "      .shuffle(BUFFER_SIZE)\n",
    "      .batch(BATCH_SIZE)\n",
    "      .map(prepare_batch, tf.data.AUTOTUNE)\n",
    "      .prefetch(buffer_size=tf.data.AUTOTUNE))\n",
    "\n",
    "\n",
    "# Create training and validation set batches.\n",
    "train_batches = make_batches(train_examples)\n",
    "val_batches = make_batches(val_examples)"
   ]
  },
  {
   "cell_type": "code",
   "execution_count": 18,
   "metadata": {
    "execution": {
     "iopub.execute_input": "2022-09-20T11:10:19.957069Z",
     "iopub.status.busy": "2022-09-20T11:10:19.956474Z",
     "iopub.status.idle": "2022-09-20T11:10:21.162931Z",
     "shell.execute_reply": "2022-09-20T11:10:21.162191Z"
    },
    "id": "CAw2XjRwLFWr"
   },
   "outputs": [
    {
     "name": "stdout",
     "output_type": "stream",
     "text": [
      "(64, 101)\n",
      "(64, 100)\n"
     ]
    }
   ],
   "source": [
    "for (pt, en), en_labels in train_batches.take(1):\n",
    "  print(pt.shape)\n",
    "  print(en.shape)"
   ]
  },
  {
   "cell_type": "markdown",
   "metadata": {
    "id": "7e7hKcxn6-zd"
   },
   "source": [
    "## Define the components"
   ]
  },
  {
   "cell_type": "markdown",
   "metadata": {
    "id": "Ub5j7x6slzd1"
   },
   "source": [
    "The Transformer model follows the same general pattern as a standard [sequence-to-sequence](https://www.tensorflow.org/text/tutorials/nmt_with_attention) model with an [encoder](https://developers.google.com/machine-learning/glossary#encoder){:.external} and a [decoder](https://developers.google.com/machine-learning/glossary#decoder){:.external}.\n",
    "\n",
    "<img src=\"https://www.tensorflow.org/images/tutorials/transformer/standard_transformer_architecture.png\" alt=\"Standard transformer architecture\">\n",
    "\n",
    "Figure 4: The standard Transformer architecture. The image is from Google Research's [\"Efficient Transformers: a survey\"](https://arxiv.org/abs/2009.06732){:.external} (Tay et al., 2022).\n",
    "\n",
    "The [\"Attention is all you need\"](https://arxiv.org/abs/1706.03762){:.external} paper's authors demonstrated in 2017 that a model made of [self-attention](https://developers.google.com/machine-learning/glossary#self-attention){:.external} layers and feed-forward networks can achieve high translation quality, outperforming [recurrent](https://www.tensorflow.org/text/tutorials/text_classification_rnn) and [convolutional](https://www.tensorflow.org/tutorials/images/cnn) neural networks.\n",
    "\n",
    "Main similarities and differences between the Transformer and [RNNs with attention](./nmt_with_attention.ipynb):\n",
    "\n",
    "- In both cases, the model _transforms_ sequences of input embeddings into sequences of output embeddings (which are covered later in this tutorial).\n",
    "- The decoders generating the output sequences use attention layers to select relevant information from the input sequence.\n",
    "- To process each sequence—to learn the mapping between inputs and outputs—the [RNNs with attention use RNNs](https://ai.googleblog.com/2016/09/a-neural-network-for-machine.html){:.external}. The Transformer, however, doesn't need RNNs, and relies on the attention layers in both the encoder and the decoder. Self-attention layers with a [residual/skip connection](https://en.wikipedia.org/wiki/Residual_neural_network){:.external} update each location with information selected from the rest of the sequence. Self-attention performs sequence processing by replacing an element with a weighted average of the rest of that sequence.\n",
    "\n",
    "Read the [Google AI blog post](https://ai.googleblog.com/2017/08/transformer-novel-neural-network.html){:.external} for more details."
   ]
  },
  {
   "cell_type": "markdown",
   "metadata": {
    "id": "O0R4bYJ0DiFR"
   },
   "source": [
    "### Overview\n",
    "\n",
    "- The input [embeddings](https://developers.google.com/machine-learning/glossary#embeddings){:.external}, added to positional encoding, are passed through the encoder (with N layers) that generates an output for each token in the sequence. This makes sure the model can recognize the word order and helps avoid a [bag-of-words](https://developers.google.com/machine-learning/glossary#bag-of-words){:.external} representation.\n",
    "  - You will use `tf.keras.layers.Embedding` for the embeddings layers, as well as the `positional_encoding()` function inside the encoder/decoder later in this section.\n",
    "- The Transformer's encoder and decoder consist of N layers (`num_layers`) each, containing [multi-head attention](https://developers.google.com/machine-learning/glossary#multi-head-self-attention){:.external} (`tf.keras.layers.MultiHeadAttention`) layers with M heads (`num_heads`), and point-wise feed-forward networks.\n",
    "  - The encoder leverages the self-attention mechanism.\n",
    "  - The decoder (with N decoder layers) attends to the encoder's output (with cross-attention to utilize the information from the encoder) and its own input (with masked self-attention) to predict the next word. The masked self-attention is causal—it is there to make sure the model can only rely on the preceding tokens in the decoding stage.\n",
    "  - You will create these Transformer building blocks in this section.\n",
    "\n",
    "<img src=\"https://www.tensorflow.org/images/tutorials/transformer/transformer.png\" width=\"600\" alt=\"Transformer\">\n",
    "\n",
    "Figure 5: The Transformer architecture from Google Research's [\"Attention is all you need\"](https://arxiv.org/abs/1706.03762){:.external} (Vaswani et al., 2017).\n",
    "\n",
    "Before creating the encoder and the decoder, start with defining the encoder and decoder layers."
   ]
  },
  {
   "cell_type": "markdown",
   "metadata": {
    "id": "YS75Y-9-lkzn"
   },
   "source": [
    "### Define the Embedding and Positional encoding"
   ]
  },
  {
   "cell_type": "markdown",
   "metadata": {
    "id": "279u2DiDlmdS"
   },
   "source": [
    "After converting the texts into sequences of tokens, both the input tokens (Portuguese) and target tokens (English) have to be converted to vectors using a `tf.keras.layers.Embedding` layer.\n",
    "\n",
    "Attention layers see their input as a set of vectors, with no order. Since the model doesn't contain any recurrent or convolutional layers. It needs some way to identify word order, otherwise it would see the input sequence as aa [bag of words](https://developers.google.com/machine-learning/glossary#bag-of-words){:.external}, where, for instance, `how are you`, `how you are`, `you how are`, and so on, are indestinguishable.\n",
    "\n",
    "A Transformer adds a \"Positional Encoding\" to the embedding vectors. It uses a set of sines and cosines at different frequencies (across the sequence). By definition nearby elements will have similar position encodings."
   ]
  },
  {
   "cell_type": "markdown",
   "metadata": {
    "id": "4gcCNZP7lzdy"
   },
   "source": [
    "The formula for calculating the positional encoding (implemented in Python below) is as follows:\n",
    "\n",
    "$$\\Large{PE_{(pos, 2i)} = \\sin(pos / 10000^{2i / d_{model}})} $$\n",
    "$$\\Large{PE_{(pos, 2i+1)} = \\cos(pos / 10000^{2i / d_{model}})} $$"
   ]
  },
  {
   "cell_type": "code",
   "execution_count": 19,
   "metadata": {
    "execution": {
     "iopub.execute_input": "2022-09-20T11:10:21.168090Z",
     "iopub.status.busy": "2022-09-20T11:10:21.167564Z",
     "iopub.status.idle": "2022-09-20T11:10:21.172520Z",
     "shell.execute_reply": "2022-09-20T11:10:21.171841Z"
    },
    "id": "1Rz82wEs5biZ"
   },
   "outputs": [],
   "source": [
    "def positional_encoding(length, depth):\n",
    "  depth = depth/2\n",
    "\n",
    "  positions = np.arange(length)[:, np.newaxis]     # (seq, 1)\n",
    "  depths = np.arange(depth)[np.newaxis, :]/depth   # (1, depth)\n",
    "  \n",
    "  angle_rates = 1 / (10000**depths)         # (1, depth)\n",
    "  angle_rads = positions * angle_rates      # (pos, depth)\n",
    "\n",
    "  pos_encoding = np.concatenate(\n",
    "      [np.sin(angle_rads), np.cos(angle_rads)],\n",
    "      axis=-1) \n",
    "\n",
    "  return tf.cast(pos_encoding, dtype=tf.float32)"
   ]
  },
  {
   "cell_type": "markdown",
   "metadata": {
    "id": "Ra1IcbzFhnmF"
   },
   "source": [
    "The position encoding function is a stack of sines and cosines that vibrate at different frequencies depending of their location along the depth of the emvedding vector. They vibrate across the position axis."
   ]
  },
  {
   "cell_type": "code",
   "execution_count": 20,
   "metadata": {
    "cellView": "form",
    "execution": {
     "iopub.execute_input": "2022-09-20T11:10:21.175907Z",
     "iopub.status.busy": "2022-09-20T11:10:21.175278Z",
     "iopub.status.idle": "2022-09-20T11:10:21.869564Z",
     "shell.execute_reply": "2022-09-20T11:10:21.868955Z"
    },
    "id": "AKf4Ky2dhg0L"
   },
   "outputs": [
    {
     "name": "stdout",
     "output_type": "stream",
     "text": [
      "(2048, 512)\n"
     ]
    },
    {
     "data": {
      "image/png": "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
